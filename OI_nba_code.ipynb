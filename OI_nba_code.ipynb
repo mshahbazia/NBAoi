{
 "cells": [
  {
   "cell_type": "code",
   "execution_count": 5,
   "metadata": {},
   "outputs": [
    {
     "name": "stdout",
     "output_type": "stream",
     "text": [
      "[2030448, 2033735, 2026874, 2026202, 2026657, 2037006, 2035061, 2027341, 2027943, 2033865, 2029173, 2035853, 2031564, 2030809, 2032152, 2032829, 2032606, 2030344, 2034857, 2038704, 2026675, 2033273, 2038839, 2026291, 2029333, 2037808, 2034167, 2030405, 2024422, 2025605, 2030117, 2035160, 2033041, 2035016, 2024260, 2034958, 2033757, 2026250, 2032050, 2029775, 2038213, 2031167, 2038074, 2032754, 2028726, 2037290, 2032223, 2026703, 2025727, 2027931, 2029892, 2024940, 2033103, 2036216, 2034669, 2026481, 2038981, 2032058, 2037621, 2038026, 2036882, 2024382, 2029040, 2035319, 2035527, 2033631, 2025034, 2037528, 2029919, 2034489, 2028311, 2037165, 2024295, 2029850, 2032763, 2036071, 2028527, 2032368, 2035249, 2030891, 2031890, 2035795, 2030766, 2024416, 2029990, 2033366, 2037995, 2031748, 2027752, 2031016, 2038962, 2025924, 2031686, 2024725, 2027856, 2032035, 2036210, 2033942, 2026714, 2031646, 2025828, 2026429, 2034339, 2026776, 2035281, 2035343, 2036431, 2036045, 2032121, 2031977, 2027283, 2027530, 2028931, 2026809, 2036392, 2030153, 2026225, 2031634, 2035566, 2031029, 2032827, 2033037, 2034907, 2034869, 2026494, 2033686, 2033481, 2026408, 2035538, 2029906, 2036665, 2024296, 2025950, 2031713, 2030814, 2031729, 2026102, 2025700, 2025375, 2037622, 2031921, 2037287, 2024852, 2029024, 2026922, 2031355, 2038082, 2028880, 2032992, 2032140, 2036538, 2033082]\n"
     ]
    }
   ],
   "source": [
    "import pandas as pd\n",
    "\n",
    "# Load the CSV files\n",
    "injuries_path = 'nba_OI.csv'  # Replace with your file path\n",
    "workforce_path = 'NBA_Workforce.csv'\n",
    "\n",
    "injuries_data = pd.read_csv(injuries_path)\n",
    "workforce_data = pd.read_csv(workforce_path)\n",
    "\n",
    "# Identifying the IDs that haven't been QAed in the 'nba_occupational_injuries' dataset\n",
    "unqaed_ids = injuries_data[injuries_data['QA By'].isna()]['ID Data']\n",
    "\n",
    "# Display the IDs that haven't been QAed \n",
    "unqaed_ids_list = unqaed_ids.tolist()\n",
    "print(unqaed_ids_list)\n"
   ]
  },
  {
   "cell_type": "code",
   "execution_count": 4,
   "metadata": {},
   "outputs": [],
   "source": [
    "# Exclude un-QAed IDs\n",
    "qaed_injuries_data = injuries_data[~injuries_data['ID Data'].isin(unqaed_ids_list)]\n",
    "# Counting 'Lost Time' and 'No Lost Time' injury statuses for each period\n",
    "injury_counts = qaed_injuries_data.groupby(['Business Period', 'Injury Status']).size().unstack(fill_value=0)\n",
    "\n",
    "# Merging workforce data with injury counts\n",
    "merged_data = pd.merge(injury_counts, workforce_data, left_on='Business Period', right_on='Period')\n",
    "\n",
    "# Calculating injury rates per 100 employees\n",
    "merged_data['Lost Time Rate'] = (merged_data['Lost time'] / merged_data['Number of Employees']) * 100\n",
    "merged_data['No Lost Time Rate'] = (merged_data['No lost time'] / merged_data['Number of Employees']) * 100\n",
    "\n",
    "# Annualizing the numbers\n",
    "days_in_year = 365  # For a standard year\n",
    "days_in_period = 30  # Assuming each period is roughly a month\n",
    "\n",
    "merged_data['Annualized Lost Time'] = merged_data['Lost Time Rate'] * (days_in_year / days_in_period)\n",
    "merged_data['Annualized No Lost Time'] = merged_data['No Lost Time Rate'] * (days_in_year / days_in_period)"
   ]
  },
  {
   "cell_type": "code",
   "execution_count": null,
   "metadata": {},
   "outputs": [],
   "source": []
  }
 ],
 "metadata": {
  "kernelspec": {
   "display_name": "Python 3.11.4 64-bit",
   "language": "python",
   "name": "python3"
  },
  "language_info": {
   "codemirror_mode": {
    "name": "ipython",
    "version": 3
   },
   "file_extension": ".py",
   "mimetype": "text/x-python",
   "name": "python",
   "nbconvert_exporter": "python",
   "pygments_lexer": "ipython3",
   "version": "3.11.4"
  },
  "orig_nbformat": 4,
  "vscode": {
   "interpreter": {
    "hash": "aee8b7b246df8f9039afb4144a1f6fd8d2ca17a180786b69acc140d282b71a49"
   }
  }
 },
 "nbformat": 4,
 "nbformat_minor": 2
}
